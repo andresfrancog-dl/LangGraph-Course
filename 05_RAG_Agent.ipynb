{
 "cells": [
  {
   "cell_type": "code",
   "execution_count": 1,
   "metadata": {},
   "outputs": [
    {
     "data": {
      "text/plain": [
       "True"
      ]
     },
     "execution_count": 1,
     "metadata": {},
     "output_type": "execute_result"
    }
   ],
   "source": [
    "from dotenv import load_dotenv\n",
    "\n",
    "load_dotenv()"
   ]
  },
  {
   "cell_type": "code",
   "execution_count": 2,
   "metadata": {},
   "outputs": [],
   "source": [
    "from langchain.schema import Document\n",
    "from langchain_openai import OpenAIEmbeddings, ChatOpenAI\n",
    "from langchain_community.vectorstores import Chroma\n",
    "from langchain import hub\n",
    "\n",
    "embedding_function = OpenAIEmbeddings()\n",
    "\n",
    "docs = [\n",
    "    Document(\n",
    "        page_content=\"Bella Vista is owned by Antonio Rossi, a renowned chef with over 20 years of experience in the culinary industry. He started Bella Vista to bring authentic Italian flavors to the community.\",\n",
    "        metadata={\"source\": \"owner.txt\"},\n",
    "    ),\n",
    "    Document(\n",
    "        page_content=\"Bella Vista offers a range of dishes with prices that cater to various budgets. Appetizers start at $8, main courses range from $15 to $35, and desserts are priced between $6 and $12.\",\n",
    "        metadata={\"source\": \"dishes.txt\"},\n",
    "    ),\n",
    "    Document(\n",
    "        page_content=\"Bella Vista is open from Monday to Sunday. Weekday hours are 11:00 AM to 10:00 PM, while weekend hours are extended from 11:00 AM to 11:00 PM.\",\n",
    "        metadata={\"source\": \"restaurant_info.txt\"},\n",
    "    ),\n",
    "    Document(\n",
    "        page_content=\"Bella Vista offers a variety of menus including a lunch menu, dinner menu, and a special weekend brunch menu. The lunch menu features light Italian fare, the dinner menu offers a more extensive selection of traditional and contemporary dishes, and the brunch menu includes both classic breakfast items and Italian specialties.\",\n",
    "        metadata={\"source\": \"restaurant_info.txt\"},\n",
    "    ),\n",
    "]\n",
    "\n",
    "db = Chroma.from_documents(docs, embedding_function)\n",
    "# retriever = db.as_retriever()\n",
    "retriever = db.as_retriever(search_kwargs={\"k\": 2})"
   ]
  },
  {
   "cell_type": "code",
   "execution_count": 3,
   "metadata": {},
   "outputs": [
    {
     "name": "stderr",
     "output_type": "stream",
     "text": [
      "/Users/afrancog/Desktop/PROJECTS/Foundations Langgraph/LangGraph-Course/.venv/lib/python3.12/site-packages/langsmith/client.py:272: LangSmithMissingAPIKeyWarning: API key must be provided when using hosted LangSmith API\n",
      "  warnings.warn(\n"
     ]
    }
   ],
   "source": [
    "prompt = hub.pull(\"rlm/rag-prompt\")\n",
    "\n",
    "llm = ChatOpenAI(model=\"gpt-4o-mini\")\n",
    "\n",
    "\n",
    "def format_docs(docs):\n",
    "    return \"\\n\\n\".join(doc.page_content for doc in docs)\n",
    "\n",
    "\n",
    "rag_chain = prompt | llm"
   ]
  },
  {
   "cell_type": "code",
   "execution_count": 4,
   "metadata": {},
   "outputs": [],
   "source": [
    "from typing import Annotated, Literal, TypedDict\n",
    "from langchain_core.messages import BaseMessage, HumanMessage, AIMessage\n",
    "from langchain.schema import Document\n",
    "\n",
    "\n",
    "class AgentState(TypedDict):\n",
    "    messages: list[BaseMessage]\n",
    "    documents: list[Document]\n",
    "    on_topic: str"
   ]
  },
  {
   "cell_type": "code",
   "execution_count": 5,
   "metadata": {},
   "outputs": [],
   "source": [
    "from pydantic import BaseModel, Field\n",
    "from langchain_openai import ChatOpenAI\n",
    "from langchain_core.prompts import ChatPromptTemplate\n",
    "\n",
    "\n",
    "class GradeQuestion(BaseModel):\n",
    "    \"\"\"Boolean value to check whether a question is releated to the restaurant Bella Vista\"\"\"\n",
    "\n",
    "    score: str = Field(\n",
    "        description=\"Question is about restaurant? If yes -> 'Yes' if not -> 'No'\"\n",
    "    )\n",
    "\n",
    "\n",
    "def question_classifier(state: AgentState):\n",
    "    question = state[\"messages\"][-1].content\n",
    "\n",
    "    system = \"\"\"You are a classifier that determines whether a user's question is about one of the following topics:\n",
    "\n",
    "    1. Information about the owner of Bella Vista, which is Antonio Rossi.\n",
    "    2. Prices of dishes at Bella Vista (restaurant).\n",
    "    3. Opening hours of Bella Vista (restaurant).\n",
    "\n",
    "    If the question IS about any of these topics, respond with 'Yes'. Otherwise, respond with 'No'. Remember, ONLY YES or NO, nothing else in the reponse!\n",
    "    \"\"\"\n",
    "\n",
    "    grade_prompt = ChatPromptTemplate.from_messages(\n",
    "        [\n",
    "            (\"system\", system),\n",
    "            (\"human\", \"User question: {question}\"),\n",
    "        ]\n",
    "    )\n",
    "\n",
    "    llm = ChatOpenAI(model=\"gpt-4o-mini\")\n",
    "    structured_llm = llm.with_structured_output(GradeQuestion)\n",
    "    grader_llm = grade_prompt | structured_llm\n",
    "    result = grader_llm.invoke({\"question\": question})\n",
    "    print(\"RESULT\", result)\n",
    "    state[\"on_topic\"] = result.score\n",
    "    return state"
   ]
  },
  {
   "cell_type": "code",
   "execution_count": 6,
   "metadata": {},
   "outputs": [],
   "source": [
    "def on_topic_router(state):\n",
    "    on_topic = state[\"on_topic\"]\n",
    "    if on_topic.lower() == \"yes\":\n",
    "        return \"on_topic\"\n",
    "    return \"off_topic\"\n",
    "\n",
    "\n",
    "def retrieve(state):\n",
    "    question = state[\"messages\"][-1].content\n",
    "    documents = retriever.invoke(question)\n",
    "    state[\"documents\"] = documents\n",
    "    return state\n",
    "\n",
    "\n",
    "def generate_answer(state):\n",
    "    question = state[\"messages\"][-1].content\n",
    "    documents = state[\"documents\"]\n",
    "    generation = rag_chain.invoke({\"context\": documents, \"question\": question})\n",
    "    state[\"messages\"].append(generation)\n",
    "    return state\n",
    "\n",
    "\n",
    "def off_topic_response(state: AgentState):\n",
    "    state[\"messages\"].append(AIMessage(content=\"Apologise, I am unable to provide this information.\"))\n",
    "    return state"
   ]
  },
  {
   "cell_type": "code",
   "execution_count": 7,
   "metadata": {},
   "outputs": [],
   "source": [
    "from langgraph.graph import StateGraph, END\n",
    "\n",
    "workflow = StateGraph(AgentState)\n",
    "\n",
    "workflow.add_node(\"topic_decision\", question_classifier)\n",
    "workflow.add_node(\"off_topic_response\", off_topic_response)\n",
    "workflow.add_node(\"retrieve\", retrieve)\n",
    "workflow.add_node(\"generate_answer\", generate_answer)\n",
    "\n",
    "workflow.add_conditional_edges(\n",
    "    \"topic_decision\",\n",
    "    on_topic_router,\n",
    "    {\n",
    "        \"on_topic\": \"retrieve\",\n",
    "        \"off_topic\": \"off_topic_response\",\n",
    "    },\n",
    ")\n",
    "\n",
    "workflow.add_edge(\"retrieve\", \"generate_answer\")\n",
    "workflow.add_edge(\"generate_answer\", END)\n",
    "workflow.add_edge(\"off_topic_response\", END)\n",
    "\n",
    "workflow.set_entry_point(\"topic_decision\")\n",
    "graph = workflow.compile()"
   ]
  },
  {
   "cell_type": "code",
   "execution_count": 8,
   "metadata": {},
   "outputs": [
    {
     "data": {
      "image/png": "[encoded data removed]",
      "text/plain": [
       "<IPython.core.display.Image object>"
      ]
     },
     "metadata": {},
     "output_type": "display_data"
    }
   ],
   "source": [
    "from IPython.display import Image, display\n",
    "from langchain_core.runnables.graph import MermaidDrawMethod\n",
    "\n",
    "display(\n",
    "    Image(\n",
    "        graph.get_graph().draw_mermaid_png(\n",
    "            draw_method=MermaidDrawMethod.API,\n",
    "        )\n",
    "    )\n",
    ")"
   ]
  },
  {
   "cell_type": "code",
   "execution_count": 9,
   "metadata": {},
   "outputs": [
    {
     "name": "stdout",
     "output_type": "stream",
     "text": [
      "RESULT score='Yes'\n"
     ]
    },
    {
     "data": {
      "text/plain": [
       "{'messages': [HumanMessage(content='When does the bella vista restaurant open?', additional_kwargs={}, response_metadata={}),\n",
       "  AIMessage(content='Bella Vista is open from Monday to Sunday. Weekday hours are 11:00 AM to 10:00 PM, and weekend hours are from 11:00 AM to 11:00 PM.', additional_kwargs={'refusal': None}, response_metadata={'token_usage': {'completion_tokens': 42, 'prompt_tokens': 198, 'total_tokens': 240, 'completion_tokens_details': {'accepted_prediction_tokens': 0, 'audio_tokens': 0, 'reasoning_tokens': 0, 'rejected_prediction_tokens': 0}, 'prompt_tokens_details': {'audio_tokens': 0, 'cached_tokens': 0}}, 'model_name': 'gpt-4o-mini-2024-07-18', 'system_fingerprint': 'fp_560af6e559', 'id': 'chatcmpl-CLJhsFwGnR5aFd6bLEeAZQOHkPBih', 'service_tier': 'default', 'finish_reason': 'stop', 'logprobs': None}, id='run--5f662a9f-24a1-4a47-a65f-d7ac28ad8e4d-0', usage_metadata={'input_tokens': 198, 'output_tokens': 42, 'total_tokens': 240, 'input_token_details': {'audio': 0, 'cache_read': 0}, 'output_token_details': {'audio': 0, 'reasoning': 0}})],\n",
       " 'documents': [Document(metadata={'source': 'restaurant_info.txt'}, page_content='Bella Vista is open from Monday to Sunday. Weekday hours are 11:00 AM to 10:00 PM, while weekend hours are extended from 11:00 AM to 11:00 PM.'),\n",
       "  Document(metadata={'source': 'restaurant_info.txt'}, page_content='Bella Vista offers a variety of menus including a lunch menu, dinner menu, and a special weekend brunch menu. The lunch menu features light Italian fare, the dinner menu offers a more extensive selection of traditional and contemporary dishes, and the brunch menu includes both classic breakfast items and Italian specialties.')],\n",
       " 'on_topic': 'Yes'}"
      ]
     },
     "execution_count": 9,
     "metadata": {},
     "output_type": "execute_result"
    }
   ],
   "source": [
    "graph.invoke(\n",
    "    input={\n",
    "        \"messages\": [HumanMessage(content=\"When does the bella vista restaurant open?\")]\n",
    "    }\n",
    ")"
   ]
  },
  {
   "cell_type": "code",
   "execution_count": 10,
   "metadata": {},
   "outputs": [
    {
     "name": "stdout",
     "output_type": "stream",
     "text": [
      "RESULT score='No'\n"
     ]
    },
    {
     "data": {
      "text/plain": [
       "{'messages': [HumanMessage(content='What is articial intelligence?', additional_kwargs={}, response_metadata={}),\n",
       "  AIMessage(content='Apologise, I am unable to provide this information.', additional_kwargs={}, response_metadata={})],\n",
       " 'on_topic': 'No'}"
      ]
     },
     "execution_count": 10,
     "metadata": {},
     "output_type": "execute_result"
    }
   ],
   "source": [
    "graph.invoke(\n",
    "    input={\"messages\": [HumanMessage(content=\"What is articial intelligence?\")]}\n",
    ")"
   ]
  },
  {
   "cell_type": "markdown",
   "metadata": {},
   "source": [
    "### Retrieval with Tools"
   ]
  },
  {
   "cell_type": "code",
   "execution_count": 25,
   "metadata": {},
   "outputs": [],
   "source": [
    "from langchain.tools.retriever import create_retriever_tool\n",
    "from langchain_core.tools import tool\n",
    "\n",
    "retriever_tool = create_retriever_tool(\n",
    "    retriever,\n",
    "    \"retriever_tool\",\n",
    "    \"Information related to Pricing, Opening hours of the owner of the restaurant Bella Vista\",\n",
    ")\n",
    "\n",
    "\n",
    "@tool\n",
    "def off_topic():\n",
    "    \"\"\"Catch all Questions NOT related to Pricing, Opening hours of the owner of the restaurant Bella Vista\"\"\"\n",
    "    return \"Respond to the user\"\n",
    "\n",
    "\n",
    "tools = [retriever_tool, off_topic]"
   ]
  },
  {
   "cell_type": "code",
   "execution_count": 26,
   "metadata": {},
   "outputs": [],
   "source": [
    "from typing import Sequence, TypedDict\n",
    "\n",
    "from langchain_core.messages import BaseMessage\n",
    "from langgraph.graph.message import add_messages\n",
    "\n",
    "\n",
    "class AgentState(TypedDict):\n",
    "    messages: Annotated[Sequence[BaseMessage], add_messages]"
   ]
  },
  {
   "cell_type": "code",
   "execution_count": null,
   "metadata": {},
   "outputs": [],
   "source": [
    "from langchain_core.messages import HumanMessage\n",
    "from langchain_openai import ChatOpenAI\n",
    "\n",
    "\n",
    "def agent(state):\n",
    "    messages = state[\"messages\"]\n",
    "    model = ChatOpenAI()\n",
    "    model = model.bind_tools(tools)\n",
    "    response = model.invoke(messages)\n",
    "    return {\"messages\": [response]}\n",
    "\n",
    "\n",
    "def should_continue(state) -> Literal[\"tools\", END]:\n",
    "    i = 0\n",
    "    messages = state[\"messages\"]\n",
    "    last_message = messages[-1]\n",
    "    print(i)\n",
    "    i = i+1\n",
    "    if last_message.tool_calls:\n",
    "        return \"tools\"\n",
    "    return END"
   ]
  },
  {
   "cell_type": "code",
   "execution_count": 66,
   "metadata": {},
   "outputs": [],
   "source": [
    "from langgraph.graph import END, StateGraph, START\n",
    "from langgraph.prebuilt import ToolNode"
   ]
  },
  {
   "cell_type": "code",
   "execution_count": 67,
   "metadata": {},
   "outputs": [],
   "source": [
    "workflow = StateGraph(AgentState)\n",
    "\n",
    "workflow.add_node(\"agent\", agent)\n",
    "\n",
    "tool_node = ToolNode(tools)\n",
    "workflow.add_node(\"tools\", tool_node)\n",
    "workflow.add_edge(START, \"agent\")\n",
    "workflow.add_conditional_edges(\n",
    "    \"agent\",\n",
    "    should_continue,\n",
    ")\n",
    "workflow.add_edge(\"tools\", \"agent\")\n",
    "\n",
    "graph = workflow.compile()"
   ]
  },
  {
   "cell_type": "code",
   "execution_count": 18,
   "metadata": {},
   "outputs": [
    {
     "data": {
      "image/png": "[encoded data removed]",
      "text/plain": [
       "<IPython.core.display.Image object>"
      ]
     },
     "metadata": {
      "image/png": {
       "width": 300
      }
     },
     "output_type": "display_data"
    }
   ],
   "source": [
    "from IPython.display import Image, display\n",
    "from langchain_core.runnables.graph import MermaidDrawMethod\n",
    "import nest_asyncio\n",
    "nest_asyncio.apply()   # needed inside Jupyter when using pyppeteer\n",
    "\n",
    "display(\n",
    "    Image(\n",
    "        graph.get_graph().draw_mermaid_png(\n",
    "            draw_method=MermaidDrawMethod.PYPPETEER\n",
    "        ),\n",
    "        width=300   # scale down\n",
    "    )\n",
    ")"
   ]
  },
  {
   "cell_type": "code",
   "execution_count": 17,
   "metadata": {},
   "outputs": [],
   "source": [
    "# display(\n",
    "#     Image(\n",
    "#         graph.get_graph().draw_mermaid_png(\n",
    "#             draw_method=MermaidDrawMethod.API,\n",
    "#         )\n",
    "#     )\n",
    "# )"
   ]
  },
  {
   "cell_type": "code",
   "execution_count": 68,
   "metadata": {},
   "outputs": [
    {
     "name": "stdout",
     "output_type": "stream",
     "text": [
      "[HumanMessage(content='How will the weather be tommorrow?', additional_kwargs={}, response_metadata={}, id='60567945-8bf8-4f38-98f4-faa09b9c5882'), AIMessage(content='', additional_kwargs={'tool_calls': [{'id': 'call_mWEKtvP6QW8wTYjVAy1DFTgN', 'function': {'arguments': '{}', 'name': 'off_topic'}, 'type': 'function'}], 'refusal': None}, response_metadata={'token_usage': {'completion_tokens': 10, 'prompt_tokens': 102, 'total_tokens': 112, 'completion_tokens_details': {'accepted_prediction_tokens': 0, 'audio_tokens': 0, 'reasoning_tokens': 0, 'rejected_prediction_tokens': 0}, 'prompt_tokens_details': {'audio_tokens': 0, 'cached_tokens': 0}}, 'model_name': 'gpt-3.5-turbo-0125', 'system_fingerprint': None, 'id': 'chatcmpl-CLKBKRIGZ50P9Q2YEVcIZWGcFQh3L', 'service_tier': 'default', 'finish_reason': 'tool_calls', 'logprobs': None}, id='run--3dff5d29-98d4-4f31-9362-819c7b7fe6b8-0', tool_calls=[{'name': 'off_topic', 'args': {}, 'id': 'call_mWEKtvP6QW8wTYjVAy1DFTgN', 'type': 'tool_call'}], usage_metadata={'input_tokens': 102, 'output_tokens': 10, 'total_tokens': 112, 'input_token_details': {'audio': 0, 'cache_read': 0}, 'output_token_details': {'audio': 0, 'reasoning': 0}})] 0\n",
      "[HumanMessage(content='How will the weather be tommorrow?', additional_kwargs={}, response_metadata={}, id='60567945-8bf8-4f38-98f4-faa09b9c5882'), AIMessage(content='', additional_kwargs={'tool_calls': [{'id': 'call_mWEKtvP6QW8wTYjVAy1DFTgN', 'function': {'arguments': '{}', 'name': 'off_topic'}, 'type': 'function'}], 'refusal': None}, response_metadata={'token_usage': {'completion_tokens': 10, 'prompt_tokens': 102, 'total_tokens': 112, 'completion_tokens_details': {'accepted_prediction_tokens': 0, 'audio_tokens': 0, 'reasoning_tokens': 0, 'rejected_prediction_tokens': 0}, 'prompt_tokens_details': {'audio_tokens': 0, 'cached_tokens': 0}}, 'model_name': 'gpt-3.5-turbo-0125', 'system_fingerprint': None, 'id': 'chatcmpl-CLKBKRIGZ50P9Q2YEVcIZWGcFQh3L', 'service_tier': 'default', 'finish_reason': 'tool_calls', 'logprobs': None}, id='run--3dff5d29-98d4-4f31-9362-819c7b7fe6b8-0', tool_calls=[{'name': 'off_topic', 'args': {}, 'id': 'call_mWEKtvP6QW8wTYjVAy1DFTgN', 'type': 'tool_call'}], usage_metadata={'input_tokens': 102, 'output_tokens': 10, 'total_tokens': 112, 'input_token_details': {'audio': 0, 'cache_read': 0}, 'output_token_details': {'audio': 0, 'reasoning': 0}}), ToolMessage(content='Respond to the user', name='off_topic', id='0ca1774a-eaae-4dc4-bb67-038d6f0e382f', tool_call_id='call_mWEKtvP6QW8wTYjVAy1DFTgN'), AIMessage(content=\"I'm sorry, but I am not able to provide information about the weather. How can I assist you with something else?\", additional_kwargs={'refusal': None}, response_metadata={'token_usage': {'completion_tokens': 26, 'prompt_tokens': 124, 'total_tokens': 150, 'completion_tokens_details': {'accepted_prediction_tokens': 0, 'audio_tokens': 0, 'reasoning_tokens': 0, 'rejected_prediction_tokens': 0}, 'prompt_tokens_details': {'audio_tokens': 0, 'cached_tokens': 0}}, 'model_name': 'gpt-3.5-turbo-0125', 'system_fingerprint': None, 'id': 'chatcmpl-CLKBLirY4OvrddH1aZLBxOaF0AgZN', 'service_tier': 'default', 'finish_reason': 'stop', 'logprobs': None}, id='run--0ebe3e7f-eb34-4b2a-9adf-aa62165c55db-0', usage_metadata={'input_tokens': 124, 'output_tokens': 26, 'total_tokens': 150, 'input_token_details': {'audio': 0, 'cache_read': 0}, 'output_token_details': {'audio': 0, 'reasoning': 0}})] 0\n"
     ]
    },
    {
     "data": {
      "text/plain": [
       "{'messages': [HumanMessage(content='How will the weather be tommorrow?', additional_kwargs={}, response_metadata={}, id='60567945-8bf8-4f38-98f4-faa09b9c5882'),\n",
       "  AIMessage(content='', additional_kwargs={'tool_calls': [{'id': 'call_mWEKtvP6QW8wTYjVAy1DFTgN', 'function': {'arguments': '{}', 'name': 'off_topic'}, 'type': 'function'}], 'refusal': None}, response_metadata={'token_usage': {'completion_tokens': 10, 'prompt_tokens': 102, 'total_tokens': 112, 'completion_tokens_details': {'accepted_prediction_tokens': 0, 'audio_tokens': 0, 'reasoning_tokens': 0, 'rejected_prediction_tokens': 0}, 'prompt_tokens_details': {'audio_tokens': 0, 'cached_tokens': 0}}, 'model_name': 'gpt-3.5-turbo-0125', 'system_fingerprint': None, 'id': 'chatcmpl-CLKBKRIGZ50P9Q2YEVcIZWGcFQh3L', 'service_tier': 'default', 'finish_reason': 'tool_calls', 'logprobs': None}, id='run--3dff5d29-98d4-4f31-9362-819c7b7fe6b8-0', tool_calls=[{'name': 'off_topic', 'args': {}, 'id': 'call_mWEKtvP6QW8wTYjVAy1DFTgN', 'type': 'tool_call'}], usage_metadata={'input_tokens': 102, 'output_tokens': 10, 'total_tokens': 112, 'input_token_details': {'audio': 0, 'cache_read': 0}, 'output_token_details': {'audio': 0, 'reasoning': 0}}),\n",
       "  ToolMessage(content='Respond to the user', name='off_topic', id='0ca1774a-eaae-4dc4-bb67-038d6f0e382f', tool_call_id='call_mWEKtvP6QW8wTYjVAy1DFTgN'),\n",
       "  AIMessage(content=\"I'm sorry, but I am not able to provide information about the weather. How can I assist you with something else?\", additional_kwargs={'refusal': None}, response_metadata={'token_usage': {'completion_tokens': 26, 'prompt_tokens': 124, 'total_tokens': 150, 'completion_tokens_details': {'accepted_prediction_tokens': 0, 'audio_tokens': 0, 'reasoning_tokens': 0, 'rejected_prediction_tokens': 0}, 'prompt_tokens_details': {'audio_tokens': 0, 'cached_tokens': 0}}, 'model_name': 'gpt-3.5-turbo-0125', 'system_fingerprint': None, 'id': 'chatcmpl-CLKBLirY4OvrddH1aZLBxOaF0AgZN', 'service_tier': 'default', 'finish_reason': 'stop', 'logprobs': None}, id='run--0ebe3e7f-eb34-4b2a-9adf-aa62165c55db-0', usage_metadata={'input_tokens': 124, 'output_tokens': 26, 'total_tokens': 150, 'input_token_details': {'audio': 0, 'cache_read': 0}, 'output_token_details': {'audio': 0, 'reasoning': 0}})]}"
      ]
     },
     "execution_count": 68,
     "metadata": {},
     "output_type": "execute_result"
    }
   ],
   "source": [
    "graph.invoke(\n",
    "    input={\"messages\": [HumanMessage(content=\"How will the weather be tommorrow?\")]}\n",
    ")"
   ]
  },
  {
   "cell_type": "code",
   "execution_count": 52,
   "metadata": {},
   "outputs": [
    {
     "data": {
      "text/plain": [
       "{'messages': [HumanMessage(content='How many people work at Bella Vista?', additional_kwargs={}, response_metadata={}, id='d6cb261c-064b-4a66-b693-3d4bf6ed0ab0'),\n",
       "  AIMessage(content='', additional_kwargs={'tool_calls': [{'id': 'call_t2lLmYpftBW87P1QIn3mRs9i', 'function': {'arguments': '{\"query\":\"How many people work at Bella Vista?\"}', 'name': 'retriever_tool'}, 'type': 'function'}], 'refusal': None}, response_metadata={'token_usage': {'completion_tokens': 23, 'prompt_tokens': 101, 'total_tokens': 124, 'completion_tokens_details': {'accepted_prediction_tokens': 0, 'audio_tokens': 0, 'reasoning_tokens': 0, 'rejected_prediction_tokens': 0}, 'prompt_tokens_details': {'audio_tokens': 0, 'cached_tokens': 0}}, 'model_name': 'gpt-3.5-turbo-0125', 'system_fingerprint': None, 'id': 'chatcmpl-CLK0IWrUAZ7lQSIeexNNO8zTN5165', 'service_tier': 'default', 'finish_reason': 'tool_calls', 'logprobs': None}, id='run--bb2930d4-5fff-4d76-a274-b24e2085aa89-0', tool_calls=[{'name': 'retriever_tool', 'args': {'query': 'How many people work at Bella Vista?'}, 'id': 'call_t2lLmYpftBW87P1QIn3mRs9i', 'type': 'tool_call'}], usage_metadata={'input_tokens': 101, 'output_tokens': 23, 'total_tokens': 124, 'input_token_details': {'audio': 0, 'cache_read': 0}, 'output_token_details': {'audio': 0, 'reasoning': 0}}),\n",
       "  ToolMessage(content='Bella Vista is owned by Antonio Rossi, a renowned chef with over 20 years of experience in the culinary industry. He started Bella Vista to bring authentic Italian flavors to the community.\\n\\nBella Vista is open from Monday to Sunday. Weekday hours are 11:00 AM to 10:00 PM, while weekend hours are extended from 11:00 AM to 11:00 PM.', name='retriever_tool', id='b42d0d64-6904-432d-b2eb-432031c58440', tool_call_id='call_t2lLmYpftBW87P1QIn3mRs9i'),\n",
       "  AIMessage(content=\"Unfortunately, I couldn't find information about the number of people who work at Bella Vista.\", additional_kwargs={'refusal': None}, response_metadata={'token_usage': {'completion_tokens': 19, 'prompt_tokens': 215, 'total_tokens': 234, 'completion_tokens_details': {'accepted_prediction_tokens': 0, 'audio_tokens': 0, 'reasoning_tokens': 0, 'rejected_prediction_tokens': 0}, 'prompt_tokens_details': {'audio_tokens': 0, 'cached_tokens': 0}}, 'model_name': 'gpt-3.5-turbo-0125', 'system_fingerprint': None, 'id': 'chatcmpl-CLK0JarOsYVBhAfR7E0IPtQ6TsccR', 'service_tier': 'default', 'finish_reason': 'stop', 'logprobs': None}, id='run--440a5785-8f4b-4d91-a1a9-576d78f0a371-0', usage_metadata={'input_tokens': 215, 'output_tokens': 19, 'total_tokens': 234, 'input_token_details': {'audio': 0, 'cache_read': 0}, 'output_token_details': {'audio': 0, 'reasoning': 0}})]}"
      ]
     },
     "execution_count": 52,
     "metadata": {},
     "output_type": "execute_result"
    }
   ],
   "source": [
    "graph.invoke(\n",
    "    input={\"messages\": [HumanMessage(content=\"How many people work at Bella Vista?\")]}\n",
    ")"
   ]
  },
  {
   "cell_type": "code",
   "execution_count": 50,
   "metadata": {},
   "outputs": [
    {
     "data": {
      "text/plain": [
       "{'messages': [HumanMessage(content='When does the bella vista restaurant open?', additional_kwargs={}, response_metadata={}, id='e4c31662-dba4-41c4-a4a1-b57d6933fe6b'),\n",
       "  AIMessage(content='', additional_kwargs={'tool_calls': [{'id': 'call_P8QfgX5S6EVydPDJxouxR0Rn', 'function': {'arguments': '{\"query\":\"opening hours of Bella Vista restaurant\"}', 'name': 'retriever_tool'}, 'type': 'function'}], 'refusal': None}, response_metadata={'token_usage': {'completion_tokens': 21, 'prompt_tokens': 101, 'total_tokens': 122, 'completion_tokens_details': {'accepted_prediction_tokens': 0, 'audio_tokens': 0, 'reasoning_tokens': 0, 'rejected_prediction_tokens': 0}, 'prompt_tokens_details': {'audio_tokens': 0, 'cached_tokens': 0}}, 'model_name': 'gpt-3.5-turbo-0125', 'system_fingerprint': None, 'id': 'chatcmpl-CLJtbD5qBek4aUdjGQSKVGoUCYA2b', 'service_tier': 'default', 'finish_reason': 'tool_calls', 'logprobs': None}, id='run--adad930f-1876-4b6b-9f32-704fd90081b5-0', tool_calls=[{'name': 'retriever_tool', 'args': {'query': 'opening hours of Bella Vista restaurant'}, 'id': 'call_P8QfgX5S6EVydPDJxouxR0Rn', 'type': 'tool_call'}], usage_metadata={'input_tokens': 101, 'output_tokens': 21, 'total_tokens': 122, 'input_token_details': {'audio': 0, 'cache_read': 0}, 'output_token_details': {'audio': 0, 'reasoning': 0}}),\n",
       "  ToolMessage(content='Bella Vista is open from Monday to Sunday. Weekday hours are 11:00 AM to 10:00 PM, while weekend hours are extended from 11:00 AM to 11:00 PM.\\n\\nBella Vista offers a variety of menus including a lunch menu, dinner menu, and a special weekend brunch menu. The lunch menu features light Italian fare, the dinner menu offers a more extensive selection of traditional and contemporary dishes, and the brunch menu includes both classic breakfast items and Italian specialties.', name='retriever_tool', id='64fa3113-181a-4327-8193-64639bd5bd40', tool_call_id='call_P8QfgX5S6EVydPDJxouxR0Rn'),\n",
       "  AIMessage(content='Bella Vista restaurant opens at the following hours:\\n- Monday to Sunday: 11:00 AM to 10:00 PM (Weekdays)\\n- Saturday and Sunday: 11:00 AM to 11:00 PM (Weekends)', additional_kwargs={'refusal': None}, response_metadata={'token_usage': {'completion_tokens': 51, 'prompt_tokens': 234, 'total_tokens': 285, 'completion_tokens_details': {'accepted_prediction_tokens': 0, 'audio_tokens': 0, 'reasoning_tokens': 0, 'rejected_prediction_tokens': 0}, 'prompt_tokens_details': {'audio_tokens': 0, 'cached_tokens': 0}}, 'model_name': 'gpt-3.5-turbo-0125', 'system_fingerprint': None, 'id': 'chatcmpl-CLJtcVUZQruYZwyGExEwq2IbmqnXT', 'service_tier': 'default', 'finish_reason': 'stop', 'logprobs': None}, id='run--82042acd-7b31-4fc8-8ed7-f906e8735bc2-0', usage_metadata={'input_tokens': 234, 'output_tokens': 51, 'total_tokens': 285, 'input_token_details': {'audio': 0, 'cache_read': 0}, 'output_token_details': {'audio': 0, 'reasoning': 0}})]}"
      ]
     },
     "execution_count": 50,
     "metadata": {},
     "output_type": "execute_result"
    }
   ],
   "source": [
    "graph.invoke(\n",
    "    input={\n",
    "        \"messages\": [HumanMessage(content=\"When does the bella vista restaurant open?\")]\n",
    "    }\n",
    ")"
   ]
  }
 ],
 "metadata": {
  "kernelspec": {
   "display_name": ".venv",
   "language": "python",
   "name": "python3"
  },
  "language_info": {
   "codemirror_mode": {
    "name": "ipython",
    "version": 3
   },
   "file_extension": ".py",
   "mimetype": "text/x-python",
   "name": "python",
   "nbconvert_exporter": "python",
   "pygments_lexer": "ipython3",
   "version": "3.12.9"
  }
 },
 "nbformat": 4,
 "nbformat_minor": 2
}
