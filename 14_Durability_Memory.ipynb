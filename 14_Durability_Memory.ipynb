{
 "cells": [
  {
   "cell_type": "markdown",
   "id": "4642f129",
   "metadata": {},
   "source": [
    "### LangGraph v0.6 introduces a new durability argument that gives you fine-grained control over persistence behavior."
   ]
  },
  {
   "cell_type": "code",
   "execution_count": 17,
   "id": "51c5e319",
   "metadata": {},
   "outputs": [],
   "source": [
    "from langchain_openai import ChatOpenAI\n",
    "from langgraph.graph import StateGraph, MessagesState, START, END\n",
    "from langgraph.checkpoint.memory import MemorySaver \n",
    "from dotenv import load_dotenv\n",
    "\n",
    "load_dotenv()\n",
    "\n",
    "model = ChatOpenAI(model=\"gpt-4o-mini\") "
   ]
  },
  {
   "cell_type": "code",
   "execution_count": 18,
   "id": "dcc24c7b",
   "metadata": {},
   "outputs": [],
   "source": [
    "def call_llm(state: MessagesState):\n",
    "    ai_msg = model.invoke(state[\"messages\"])\n",
    "    return {\"messages\": [ai_msg]}\n",
    "\n",
    "builder = StateGraph(MessagesState)\n",
    "builder.add_node(\"llm\", call_llm)\n",
    "builder.add_edge(START, \"llm\")\n",
    "builder.add_edge(\"llm\", END)\n",
    "\n",
    "checkpointer = MemorySaver()\n",
    "graph = builder.compile(checkpointer=checkpointer)\n"
   ]
  },
  {
   "cell_type": "code",
   "execution_count": 19,
   "id": "4ac9ae7d",
   "metadata": {},
   "outputs": [],
   "source": [
    "from langchain_core.messages import HumanMessage\n",
    "\n",
    "config_exit = {\"configurable\": {\"thread_id\": \"demo-exit\"}}\n",
    "out_exit = graph.invoke(\n",
    "    {\"messages\": HumanMessage(\"Durability: exit\")},\n",
    "    config=config_exit,\n",
    "    durability=\"exit\",\n",
    ")"
   ]
  },
  {
   "cell_type": "code",
   "execution_count": 20,
   "id": "8cc2d076",
   "metadata": {},
   "outputs": [
    {
     "name": "stdout",
     "output_type": "stream",
     "text": [
      "EXIT checkpoints: 1\n"
     ]
    },
    {
     "data": {
      "text/plain": [
       "[StateSnapshot(values={'messages': [HumanMessage(content='Durability: exit', additional_kwargs={}, response_metadata={}, id='af36c692-6a01-4753-bb3c-b0d7a9e1a0cb'), AIMessage(content='It seems like you might be referring to the concept of durability in a specific context, such as a product, material, or system. Could you please provide more details or clarify your request? This will help me assist you more effectively.', additional_kwargs={'refusal': None}, response_metadata={'token_usage': {'completion_tokens': 47, 'prompt_tokens': 11, 'total_tokens': 58, 'completion_tokens_details': {'accepted_prediction_tokens': 0, 'audio_tokens': 0, 'reasoning_tokens': 0, 'rejected_prediction_tokens': 0}, 'prompt_tokens_details': {'audio_tokens': 0, 'cached_tokens': 0}}, 'model_name': 'gpt-4o-mini-2024-07-18', 'system_fingerprint': 'fp_34a54ae93c', 'id': 'chatcmpl-C3RDVLyPZNyWg8h6LdPzOqfhJ2rK2', 'service_tier': 'default', 'finish_reason': 'stop', 'logprobs': None}, id='run--81872ce1-40ea-4897-b893-6c5457e6e8f0-0', usage_metadata={'input_tokens': 11, 'output_tokens': 47, 'total_tokens': 58, 'input_token_details': {'audio': 0, 'cache_read': 0}, 'output_token_details': {'audio': 0, 'reasoning': 0}})]}, next=(), config={'configurable': {'thread_id': 'demo-exit', 'checkpoint_ns': '', 'checkpoint_id': '1f076de0-79cc-6f5e-8001-9dfdba00a9fd'}}, metadata={'source': 'loop', 'step': 1, 'parents': {}}, created_at='2025-08-11T18:07:23.102083+00:00', parent_config=None, tasks=(), interrupts=())]"
      ]
     },
     "execution_count": 20,
     "metadata": {},
     "output_type": "execute_result"
    }
   ],
   "source": [
    "exit_history = list(graph.get_state_history(config=config_exit))\n",
    "print(\"EXIT checkpoints:\", len(exit_history))\n",
    "exit_history"
   ]
  },
  {
   "cell_type": "code",
   "execution_count": null,
   "id": "29cbbdc8",
   "metadata": {},
   "outputs": [],
   "source": [
    "config_async = {\"configurable\": {\"thread_id\": \"demo-async\"}}\n",
    "out_async = graph.invoke(\n",
    "    {\"messages\": HumanMessage(\"Durability: async\")},\n",
    "    config=config_async,\n",
    "    durability=\"async\",\n",
    ")"
   ]
  },
  {
   "cell_type": "code",
   "execution_count": null,
   "id": "6da95f9b",
   "metadata": {},
   "outputs": [],
   "source": [
    "async_history = list(graph.get_state_history(config=config_async))\n",
    "print(\"ASYNC checkpoints:\", len(async_history))\n",
    "async_history"
   ]
  },
  {
   "cell_type": "code",
   "execution_count": 15,
   "id": "cb80b1e6",
   "metadata": {},
   "outputs": [],
   "source": [
    "from langchain_core.messages import HumanMessage\n",
    "\n",
    "config_sync = {\"configurable\": {\"thread_id\": \"demo-sync\"}}\n",
    "out_sync = graph.invoke(\n",
    "    {\"messages\": HumanMessage(\"Durability: sync\")},\n",
    "    config=config_sync,\n",
    "    durability=\"sync\",\n",
    ")"
   ]
  },
  {
   "cell_type": "code",
   "execution_count": 16,
   "id": "e4abcef1",
   "metadata": {},
   "outputs": [
    {
     "name": "stdout",
     "output_type": "stream",
     "text": [
      "SYNC checkpoints: 3\n"
     ]
    },
    {
     "data": {
      "text/plain": [
       "[StateSnapshot(values={'messages': [HumanMessage(content='Durability: sync', additional_kwargs={}, response_metadata={}, id='c08ce44e-5196-4cf7-8e8c-7abc3311de7c'), AIMessage(content='It looks like you\\'re mentioning \"durability\" and \"sync,\" which could relate to various fields such as data storage, software development, or network systems. Here are a few potential interpretations:\\n\\n1. **Database Durability**: In the context of databases, durability ensures that once a transaction has been committed, it will remain so, even in the event of a system failure. \"Sync\" could refer to how changes are synchronized across different database instances or how data is replicated to maintain durability across systems.\\n\\n2. **File Synchronization**: In file storage systems, durability refers to the certainty that data will be preserved over time (e.g., in cloud storage), while \"sync\" can pertain to keeping local and remote files updated and consistent.\\n\\n3. **Synchronization in Programming**: In software development, durability may refer to ensuring that data remains consistent and safe across sessions, while sync can indicate mechanisms that keep data consistent across threads or processes.\\n\\nIf you have a specific context in mind, please provide more details so I can give a more tailored explanation or assistance!', additional_kwargs={'refusal': None}, response_metadata={'token_usage': {'completion_tokens': 215, 'prompt_tokens': 11, 'total_tokens': 226, 'completion_tokens_details': {'accepted_prediction_tokens': 0, 'audio_tokens': 0, 'reasoning_tokens': 0, 'rejected_prediction_tokens': 0}, 'prompt_tokens_details': {'audio_tokens': 0, 'cached_tokens': 0}}, 'model_name': 'gpt-4o-mini-2024-07-18', 'system_fingerprint': 'fp_34a54ae93c', 'id': 'chatcmpl-C3RDOp8e7lzme3RiIJntPXTDFNAw5', 'service_tier': 'default', 'finish_reason': 'stop', 'logprobs': None}, id='run--3e62c215-fffb-47a5-b22b-64bff0f38e4a-0', usage_metadata={'input_tokens': 11, 'output_tokens': 215, 'total_tokens': 226, 'input_token_details': {'audio': 0, 'cache_read': 0}, 'output_token_details': {'audio': 0, 'reasoning': 0}})]}, next=(), config={'configurable': {'thread_id': 'demo-sync', 'checkpoint_ns': '', 'checkpoint_id': '1f076de0-6866-6110-8001-aeefb7dfc22d'}}, metadata={'source': 'loop', 'step': 1, 'parents': {}}, created_at='2025-08-11T18:07:21.277239+00:00', parent_config={'configurable': {'thread_id': 'demo-sync', 'checkpoint_ns': '', 'checkpoint_id': '1f076de0-2815-66e1-8000-ab16ee1b994a'}}, tasks=(), interrupts=()),\n",
       " StateSnapshot(values={'messages': [HumanMessage(content='Durability: sync', additional_kwargs={}, response_metadata={}, id='c08ce44e-5196-4cf7-8e8c-7abc3311de7c')]}, next=('llm',), config={'configurable': {'thread_id': 'demo-sync', 'checkpoint_ns': '', 'checkpoint_id': '1f076de0-2815-66e1-8000-ab16ee1b994a'}}, metadata={'source': 'loop', 'step': 0, 'parents': {}}, created_at='2025-08-11T18:07:14.533341+00:00', parent_config={'configurable': {'thread_id': 'demo-sync', 'checkpoint_ns': '', 'checkpoint_id': '1f076de0-2814-6373-bfff-1f87723a64c7'}}, tasks=(PregelTask(id='1a4db14c-b372-b877-b2a8-d119f82efb5a', name='llm', path=('__pregel_pull', 'llm'), error=None, interrupts=(), state=None, result={'messages': [AIMessage(content='It looks like you\\'re mentioning \"durability\" and \"sync,\" which could relate to various fields such as data storage, software development, or network systems. Here are a few potential interpretations:\\n\\n1. **Database Durability**: In the context of databases, durability ensures that once a transaction has been committed, it will remain so, even in the event of a system failure. \"Sync\" could refer to how changes are synchronized across different database instances or how data is replicated to maintain durability across systems.\\n\\n2. **File Synchronization**: In file storage systems, durability refers to the certainty that data will be preserved over time (e.g., in cloud storage), while \"sync\" can pertain to keeping local and remote files updated and consistent.\\n\\n3. **Synchronization in Programming**: In software development, durability may refer to ensuring that data remains consistent and safe across sessions, while sync can indicate mechanisms that keep data consistent across threads or processes.\\n\\nIf you have a specific context in mind, please provide more details so I can give a more tailored explanation or assistance!', additional_kwargs={'refusal': None}, response_metadata={'token_usage': {'completion_tokens': 215, 'prompt_tokens': 11, 'total_tokens': 226, 'completion_tokens_details': {'accepted_prediction_tokens': 0, 'audio_tokens': 0, 'reasoning_tokens': 0, 'rejected_prediction_tokens': 0}, 'prompt_tokens_details': {'audio_tokens': 0, 'cached_tokens': 0}}, 'model_name': 'gpt-4o-mini-2024-07-18', 'system_fingerprint': 'fp_34a54ae93c', 'id': 'chatcmpl-C3RDOp8e7lzme3RiIJntPXTDFNAw5', 'service_tier': 'default', 'finish_reason': 'stop', 'logprobs': None}, id='run--3e62c215-fffb-47a5-b22b-64bff0f38e4a-0', usage_metadata={'input_tokens': 11, 'output_tokens': 215, 'total_tokens': 226, 'input_token_details': {'audio': 0, 'cache_read': 0}, 'output_token_details': {'audio': 0, 'reasoning': 0}})]}),), interrupts=()),\n",
       " StateSnapshot(values={'messages': []}, next=('__start__',), config={'configurable': {'thread_id': 'demo-sync', 'checkpoint_ns': '', 'checkpoint_id': '1f076de0-2814-6373-bfff-1f87723a64c7'}}, metadata={'source': 'input', 'step': -1, 'parents': {}}, created_at='2025-08-11T18:07:14.532846+00:00', parent_config=None, tasks=(PregelTask(id='c70c0fc1-545a-78e9-5f96-22866047ef59', name='__start__', path=('__pregel_pull', '__start__'), error=None, interrupts=(), state=None, result={'messages': HumanMessage(content='Durability: sync', additional_kwargs={}, response_metadata={}, id='c08ce44e-5196-4cf7-8e8c-7abc3311de7c')}),), interrupts=())]"
      ]
     },
     "execution_count": 16,
     "metadata": {},
     "output_type": "execute_result"
    }
   ],
   "source": [
    "sync_history = list(graph.get_state_history(config=config_sync))\n",
    "print(\"SYNC checkpoints:\", len(sync_history))\n",
    "sync_history"
   ]
  }
 ],
 "metadata": {
  "kernelspec": {
   "display_name": ".venv (3.13.5)",
   "language": "python",
   "name": "python3"
  },
  "language_info": {
   "codemirror_mode": {
    "name": "ipython",
    "version": 3
   },
   "file_extension": ".py",
   "mimetype": "text/x-python",
   "name": "python",
   "nbconvert_exporter": "python",
   "pygments_lexer": "ipython3",
   "version": "3.13.6"
  }
 },
 "nbformat": 4,
 "nbformat_minor": 5
}
